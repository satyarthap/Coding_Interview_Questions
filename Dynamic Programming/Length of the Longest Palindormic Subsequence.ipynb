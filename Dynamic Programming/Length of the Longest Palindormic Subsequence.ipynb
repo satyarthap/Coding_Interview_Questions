{
 "cells": [
  {
   "cell_type": "markdown",
   "metadata": {},
   "source": [
    "Q. Find the length of the longest palindromic subsequence of a given string. \n",
    "\n",
    "For the string `BANANO` , the solution is `ANA` or `NAN` of length 3."
   ]
  },
  {
   "cell_type": "code",
   "execution_count": 2,
   "metadata": {},
   "outputs": [],
   "source": [
    "def longest_palindromic_subsequence(s):\n",
    "    \n",
    "    # Intialize a diagonal matrix\n",
    "    \n",
    "    matrix = [[1 if i==j else 0 for i in range(len(s))] for j in range(len(s))]\n",
    "    \n",
    "    # Iterate through the string checking subsequences of different lenght starting from 2 to length of string\n",
    "    # If there is a match populate the matrix with \n",
    "    \n",
    "    for j in range(1,len(s)):\n",
    "        for start in range(len(s)-j):\n",
    "            end = start + j\n",
    "            if s[start] == s[end]:\n",
    "                matrix[start][end] = matrix[start+1][end-1] + 2\n",
    "            else:\n",
    "                matrix[start][end] = max(matrix[start][end-1], matrix[start+1][end])\n",
    "    \n",
    "    return matrix[0][-1]"
   ]
  },
  {
   "cell_type": "code",
   "execution_count": null,
   "metadata": {},
   "outputs": [],
   "source": []
  }
 ],
 "metadata": {
  "kernelspec": {
   "display_name": "Python 3",
   "language": "python",
   "name": "python3"
  },
  "language_info": {
   "codemirror_mode": {
    "name": "ipython",
    "version": 3
   },
   "file_extension": ".py",
   "mimetype": "text/x-python",
   "name": "python",
   "nbconvert_exporter": "python",
   "pygments_lexer": "ipython3",
   "version": "3.7.4"
  }
 },
 "nbformat": 4,
 "nbformat_minor": 2
}
