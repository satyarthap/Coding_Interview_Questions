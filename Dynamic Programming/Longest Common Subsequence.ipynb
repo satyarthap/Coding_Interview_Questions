{
 "cells": [
  {
   "cell_type": "markdown",
   "metadata": {},
   "source": [
    "Q. Find the longest common subsequence between two strings. \n",
    "\n",
    "For the two strings `ABCD` and `BD`, the longest common subsequence is `BD`.\n",
    "\n",
    "Note the difference between subsequence and substring. The characters of a subsequence need not be consecutive."
   ]
  },
  {
   "cell_type": "markdown",
   "metadata": {},
   "source": [
    "Dynamic Programming is used to work through this solution"
   ]
  },
  {
   "cell_type": "code",
   "execution_count": null,
   "metadata": {},
   "outputs": [],
   "source": [
    "def longest_common_subsequence(a_string, b_string):\n",
    "    \n",
    "    #A 2-D Array with an extra row and column is intialized \n",
    "    # List comprehension is used\n",
    "    \n",
    "    solution = [[0 for _ in range(len(a_string) +1)] for _ in range(len(b_string) +1)]\n",
    "    \n",
    "    # The matrix is populated with the appropriate "
   ]
  }
 ],
 "metadata": {
  "kernelspec": {
   "display_name": "Python 3",
   "language": "python",
   "name": "python3"
  },
  "language_info": {
   "codemirror_mode": {
    "name": "ipython",
    "version": 3
   },
   "file_extension": ".py",
   "mimetype": "text/x-python",
   "name": "python",
   "nbconvert_exporter": "python",
   "pygments_lexer": "ipython3",
   "version": "3.7.4"
  }
 },
 "nbformat": 4,
 "nbformat_minor": 2
}
