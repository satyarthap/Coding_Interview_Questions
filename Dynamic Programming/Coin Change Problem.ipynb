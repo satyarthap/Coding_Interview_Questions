{
 "cells": [
  {
   "cell_type": "markdown",
   "metadata": {},
   "source": [
    "Q. Find the minimum number of coins to fulfill a given amount of money. \n",
    "\n",
    "Given a list of coins `[1,2,3]` and an amount of money `6`. The minmum number of coins are 2 by using two 3 denomination coins."
   ]
  },
  {
   "cell_type": "markdown",
   "metadata": {},
   "source": [
    "A Dynamic Programming Approach is taken. The problem is broken down into smaller chunks. Starting with `amount = 1` build up the minimum number of coins.\n",
    "\n",
    "The minimum number of coins to build `amount = 1` is the minimum between the `current value at 1` and `the value at 0 + int(1)` if `coin with denomination 1` exists.  "
   ]
  },
  {
   "cell_type": "code",
   "execution_count": 1,
   "metadata": {},
   "outputs": [],
   "source": [
    "def coin_change(coins, amount):\n",
    "    \n",
    "    # Intialize a 1-D Array\n",
    "    \n",
    "    result = [0 if i == 0 else amount+1 for i in range(amount+1)]\n",
    "    \n",
    "    for i in range(1,amount+1):\n",
    "        for coin in coins:\n",
    "            if i - coin >= 0:\n",
    "                result[i] = min(result[i], result[i-coin] + 1)\n",
    "                \n",
    "    if result[-1] > amount:\n",
    "        return -1\n",
    "    else:\n",
    "        return result[-1]"
   ]
  },
  {
   "cell_type": "code",
   "execution_count": 2,
   "metadata": {},
   "outputs": [
    {
     "data": {
      "text/plain": [
       "2"
      ]
     },
     "execution_count": 2,
     "metadata": {},
     "output_type": "execute_result"
    }
   ],
   "source": [
    "coin_change([1,2,3],6)"
   ]
  }
 ],
 "metadata": {
  "kernelspec": {
   "display_name": "Python 3",
   "language": "python",
   "name": "python3"
  },
  "language_info": {
   "codemirror_mode": {
    "name": "ipython",
    "version": 3
   },
   "file_extension": ".py",
   "mimetype": "text/x-python",
   "name": "python",
   "nbconvert_exporter": "python",
   "pygments_lexer": "ipython3",
   "version": "3.7.4"
  }
 },
 "nbformat": 4,
 "nbformat_minor": 2
}
