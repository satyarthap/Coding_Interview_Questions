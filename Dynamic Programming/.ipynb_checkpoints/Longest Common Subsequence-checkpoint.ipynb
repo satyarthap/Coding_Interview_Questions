{
 "cells": [
  {
   "cell_type": "markdown",
   "metadata": {},
   "source": [
    "Q. Find the longest common subsequence between two strings. \n",
    "\n",
    "For the two strings `ABCD` and `BD`, the longest common subsequence is `BD` of length 2.\n",
    "\n",
    "Note the difference between subsequence and substring. The characters of a subsequence need not be consecutive."
   ]
  },
  {
   "cell_type": "markdown",
   "metadata": {},
   "source": [
    "Dynamic Programming is used to work through this solution."
   ]
  },
  {
   "cell_type": "code",
   "execution_count": 1,
   "metadata": {},
   "outputs": [],
   "source": [
    "def longest_common_subsequence(a_string, b_string):\n",
    "    \n",
    "    # A 2-D Array with an extra row and column is intialized. \n",
    "    # List comprehension is used.\n",
    "    \n",
    "    matrix = [[0 for _ in range(len(a_string) +1)] for _ in range(len(b_string) +1)]\n",
    "    \n",
    "    # The matrix is populated with this logic:\n",
    "    # If there is a match between two chars - Add 1 to the best solution prior and populate it\n",
    "    # If there is no match get the best solution prior to this char\n",
    "    \n",
    "    for row in range(1,len(b_string)+1):\n",
    "        for column in range(1,len(a_string)+1):\n",
    "            if b_string[row-1] == a_string[column-1]:\n",
    "                matrix[row][column] = matrix[row-1][column-1] + 1 # Update the matrix\n",
    "            else:\n",
    "                matrix[row][column] = max(matrix[row-1][column], matrix[row][column-1])\n",
    "    \n",
    "    # The right most element of the matrix is the lenght of the subsequence\n",
    "    length_common_subsequence = matrix[-1][-1]\n",
    "    \n",
    "    # Code to get the actual subsequence\n",
    "    row = len(b_string) \n",
    "    column = len(a_string)\n",
    "    subsequence = \"\"        # Intialize a empty string. \n",
    "    \n",
    "    # Traverse back the matrix from the bottom right element and find elements that match\n",
    "    \n",
    "    while row > 0 and column > 0:\n",
    "        if a_string[column-1] == b_string[row-1]:            # If chars are equal put the char in the subsequence \n",
    "            subsequence = a_string[column-1] + subsequence   \n",
    "            row -= 1\n",
    "            column -= 1\n",
    "        else:                                               # If not then move in the direction of the maximum\n",
    "            if matrix[row][column-1] > matrix[row-1][column]:\n",
    "                column -= 1\n",
    "            else:\n",
    "                row -= 1\n",
    "                \n",
    "    return subsequence, length_common_subsequence           # return the actual subsequence and it's length"
   ]
  },
  {
   "cell_type": "code",
   "execution_count": 2,
   "metadata": {},
   "outputs": [
    {
     "data": {
      "text/plain": [
       "('BD', 2)"
      ]
     },
     "execution_count": 2,
     "metadata": {},
     "output_type": "execute_result"
    }
   ],
   "source": [
    "longest_common_subsequence(\"ABCD\", \"BD\")"
   ]
  }
 ],
 "metadata": {
  "kernelspec": {
   "display_name": "Python 3",
   "language": "python",
   "name": "python3"
  },
  "language_info": {
   "codemirror_mode": {
    "name": "ipython",
    "version": 3
   },
   "file_extension": ".py",
   "mimetype": "text/x-python",
   "name": "python",
   "nbconvert_exporter": "python",
   "pygments_lexer": "ipython3",
   "version": "3.7.4"
  }
 },
 "nbformat": 4,
 "nbformat_minor": 2
}
